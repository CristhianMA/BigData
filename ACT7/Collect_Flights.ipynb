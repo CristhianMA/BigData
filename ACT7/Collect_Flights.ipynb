{
 "cells": [
  {
   "cell_type": "code",
   "execution_count": null,
   "id": "d8676791",
   "metadata": {},
   "outputs": [],
   "source": [
    "import requests\n",
    "import json\n",
    "from IPython.display import JSON\n",
    "from keys import *"
   ]
  },
  {
   "cell_type": "code",
   "execution_count": 2,
   "id": "9cb9a406",
   "metadata": {},
   "outputs": [],
   "source": [
    "#be careful not to run too often as there is a maximum of 200 api calls per month\n",
    "\n",
    "url = \"https://aerodatabox.p.rapidapi.com/flights/airports/icao/SLLP/2025-09-01T08:00/2025-09-01T20:00\"\n",
    "\n",
    "querystring = {\"withLeg\":\"true\",\"direction\":\"Arrival\",\"withCancelled\":\"true\",\"withCodeshared\":\"true\",\"withCargo\":\"true\",\"withPrivate\":\"true\",\"withLocation\":\"false\"}\n",
    "\n",
    "headers = {\n",
    "    'x-rapidapi-host': \"aerodatabox.p.rapidapi.com\",\n",
    "    'x-rapidapi-key': flights_key\n",
    "    }\n",
    "\n",
    "response = requests.request(\"GET\", url, headers=headers, params=querystring)"
   ]
  },
  {
   "cell_type": "code",
   "execution_count": 3,
   "id": "5de6a0ea",
   "metadata": {},
   "outputs": [
    {
     "name": "stdout",
     "output_type": "stream",
     "text": [
      "Data appended to data.json file.\n"
     ]
    }
   ],
   "source": [
    "if response.status_code == 200:\n",
    "    new_data = response.json()\n",
    "\n",
    "    try:\n",
    "        with open(\"data.json\", \"r\") as json_file:\n",
    "            existing_data = json.load(json_file)\n",
    "    except (FileNotFoundError, json.decoder.JSONDecodeError):\n",
    "        existing_data = []\n",
    "\n",
    "    existing_data.append(new_data)\n",
    "\n",
    "    with open(\"data.json\", \"w\") as json_file:\n",
    "        json.dump(existing_data, json_file, indent=4)\n",
    "        print(\"Data appended to data.json file.\")\n",
    "else:\n",
    "    print(\"Failed to retrieve data from the API. Status code:\", response.status_code)"
   ]
  },
  {
   "cell_type": "code",
   "execution_count": 5,
   "id": "0a4385c7",
   "metadata": {},
   "outputs": [],
   "source": [
    "flight_arrivals = response.json()\n",
    "\n",
    "for flight in flight_arrivals['arrivals']:\n",
    "    scheduled_time = flight['arrival'].get('scheduledTime')\n",
    "    number = flight.get('number')\n",
    "    terminal = flight['arrival'].get('terminal')\n",
    "    departure_airport = flight['departure']['airport'].get('name')\n",
    "    aircraft_model = flight['aircraft'].get('model')\n",
    "    airline_name = flight['airline'].get('name')\n",
    "    # You can print or process these variables as needed"
   ]
  },
  {
   "cell_type": "code",
   "execution_count": 6,
   "id": "67e3f3ed",
   "metadata": {},
   "outputs": [
    {
     "data": {
      "text/html": [
       "<div>\n",
       "<style scoped>\n",
       "    .dataframe tbody tr th:only-of-type {\n",
       "        vertical-align: middle;\n",
       "    }\n",
       "\n",
       "    .dataframe tbody tr th {\n",
       "        vertical-align: top;\n",
       "    }\n",
       "\n",
       "    .dataframe thead th {\n",
       "        text-align: right;\n",
       "    }\n",
       "</style>\n",
       "<table border=\"1\" class=\"dataframe\">\n",
       "  <thead>\n",
       "    <tr style=\"text-align: right;\">\n",
       "      <th></th>\n",
       "      <th>flight_number</th>\n",
       "      <th>from</th>\n",
       "      <th>airline</th>\n",
       "      <th>aircraft</th>\n",
       "      <th>Scheduled_arrival_time.utc</th>\n",
       "      <th>Scheduled_arrival_time.local</th>\n",
       "    </tr>\n",
       "  </thead>\n",
       "  <tbody>\n",
       "    <tr>\n",
       "      <th>0</th>\n",
       "      <td>OB 602</td>\n",
       "      <td>Cochabamba</td>\n",
       "      <td>BoA</td>\n",
       "      <td>Boeing 737</td>\n",
       "      <td>2025-09-01 12:05Z</td>\n",
       "      <td>2025-09-01 08:05-04:00</td>\n",
       "    </tr>\n",
       "    <tr>\n",
       "      <th>0</th>\n",
       "      <td>OB 663</td>\n",
       "      <td>Santa Cruz de la Sierra</td>\n",
       "      <td>BoA</td>\n",
       "      <td>Boeing 737-800</td>\n",
       "      <td>2025-09-01 12:40Z</td>\n",
       "      <td>2025-09-01 08:40-04:00</td>\n",
       "    </tr>\n",
       "    <tr>\n",
       "      <th>0</th>\n",
       "      <td>OB 561</td>\n",
       "      <td>Sucre</td>\n",
       "      <td>BoA</td>\n",
       "      <td>Bombardier CRJ</td>\n",
       "      <td>2025-09-01 13:40Z</td>\n",
       "      <td>2025-09-01 09:40-04:00</td>\n",
       "    </tr>\n",
       "    <tr>\n",
       "      <th>0</th>\n",
       "      <td>OB 305</td>\n",
       "      <td>Quijarro</td>\n",
       "      <td>BoA</td>\n",
       "      <td>Boeing 737-800</td>\n",
       "      <td>2025-09-01 14:15Z</td>\n",
       "      <td>2025-09-01 10:15-04:00</td>\n",
       "    </tr>\n",
       "    <tr>\n",
       "      <th>0</th>\n",
       "      <td>OB 606</td>\n",
       "      <td>Cochabamba</td>\n",
       "      <td>BoA</td>\n",
       "      <td>Boeing 737</td>\n",
       "      <td>2025-09-01 14:55Z</td>\n",
       "      <td>2025-09-01 10:55-04:00</td>\n",
       "    </tr>\n",
       "  </tbody>\n",
       "</table>\n",
       "</div>"
      ],
      "text/plain": [
       "  flight_number                     from airline        aircraft  \\\n",
       "0        OB 602               Cochabamba     BoA      Boeing 737   \n",
       "0        OB 663  Santa Cruz de la Sierra     BoA  Boeing 737-800   \n",
       "0        OB 561                    Sucre     BoA  Bombardier CRJ   \n",
       "0        OB 305                 Quijarro     BoA  Boeing 737-800   \n",
       "0        OB 606               Cochabamba     BoA      Boeing 737   \n",
       "\n",
       "  Scheduled_arrival_time.utc Scheduled_arrival_time.local  \n",
       "0          2025-09-01 12:05Z       2025-09-01 08:05-04:00  \n",
       "0          2025-09-01 12:40Z       2025-09-01 08:40-04:00  \n",
       "0          2025-09-01 13:40Z       2025-09-01 09:40-04:00  \n",
       "0          2025-09-01 14:15Z       2025-09-01 10:15-04:00  \n",
       "0          2025-09-01 14:55Z       2025-09-01 10:55-04:00  "
      ]
     },
     "execution_count": 6,
     "metadata": {},
     "output_type": "execute_result"
    }
   ],
   "source": [
    "import pandas as pd\n",
    "from numpy import nan\n",
    "\n",
    "flight_arrivals = response.json()\n",
    "\n",
    "def flight_extraction(flights):\n",
    "    flights_df = pd.json_normalize({\n",
    "        'Scheduled_arrival_time': flights['arrival']['scheduledTime'],\n",
    "        'flight_number': flights['number'],\n",
    "        'from' : flights['departure']['airport']['name'],\n",
    "        'airline' : flights['airline']['name'],\n",
    "        'aircraft' : flights['aircraft']['model']\n",
    "    })\n",
    "    return(flights_df)\n",
    "\n",
    "flight_arrivals = pd.concat(\n",
    "    [flight_extraction(flight) for flight in flight_arrivals['arrivals']]\n",
    ")\n",
    "\n",
    "flight_arrivals.head()"
   ]
  }
 ],
 "metadata": {
  "kernelspec": {
   "display_name": "Python 3",
   "language": "python",
   "name": "python3"
  },
  "language_info": {
   "codemirror_mode": {
    "name": "ipython",
    "version": 3
   },
   "file_extension": ".py",
   "mimetype": "text/x-python",
   "name": "python",
   "nbconvert_exporter": "python",
   "pygments_lexer": "ipython3",
   "version": "3.11.9"
  }
 },
 "nbformat": 4,
 "nbformat_minor": 5
}
